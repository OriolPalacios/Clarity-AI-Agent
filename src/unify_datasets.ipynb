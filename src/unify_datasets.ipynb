{
 "cells": [
  {
   "cell_type": "code",
   "execution_count": 1,
   "metadata": {},
   "outputs": [],
   "source": [
    "import pandas as pd"
   ]
  },
  {
   "cell_type": "code",
   "execution_count": 3,
   "metadata": {},
   "outputs": [],
   "source": [
    "dataset1 = pd.read_csv('../data/DatasetJonathan.csv')\n",
    "dataset2 = pd.read_csv('../data/DatasetOriol.csv')"
   ]
  },
  {
   "cell_type": "code",
   "execution_count": 4,
   "metadata": {},
   "outputs": [
    {
     "data": {
      "text/html": [
       "<div>\n",
       "<style scoped>\n",
       "    .dataframe tbody tr th:only-of-type {\n",
       "        vertical-align: middle;\n",
       "    }\n",
       "\n",
       "    .dataframe tbody tr th {\n",
       "        vertical-align: top;\n",
       "    }\n",
       "\n",
       "    .dataframe thead th {\n",
       "        text-align: right;\n",
       "    }\n",
       "</style>\n",
       "<table border=\"1\" class=\"dataframe\">\n",
       "  <thead>\n",
       "    <tr style=\"text-align: right;\">\n",
       "      <th></th>\n",
       "      <th>Question</th>\n",
       "      <th>CoT</th>\n",
       "      <th>Response</th>\n",
       "    </tr>\n",
       "  </thead>\n",
       "  <tbody>\n",
       "    <tr>\n",
       "      <th>0</th>\n",
       "      <td>Create a detailed Clarity smart contract for t...</td>\n",
       "      <td>I'll generate a detailed Chain-of-Thought expl...</td>\n",
       "      <td>;; Define the contract's data variables\\n\\n;; ...</td>\n",
       "    </tr>\n",
       "    <tr>\n",
       "      <th>1</th>\n",
       "      <td>Create a Clarity smart contract for the Stacks...</td>\n",
       "      <td>## Chain-of-Thought Analysis: NFT Marketplace ...</td>\n",
       "      <td>;; A tiny NFT marketplace that allows users to...</td>\n",
       "    </tr>\n",
       "    <tr>\n",
       "      <th>2</th>\n",
       "      <td>Create a Clarity smart contract for the Stacks...</td>\n",
       "      <td>First, I need to implement a Clarity smart con...</td>\n",
       "      <td>;; This contract implements the SIP-009 commun...</td>\n",
       "    </tr>\n",
       "    <tr>\n",
       "      <th>3</th>\n",
       "      <td>Generate a Clarity smart contract for Stacks B...</td>\n",
       "      <td>First, I notice there's a significant mismatch...</td>\n",
       "      <td>(impl-trait 'SPDBEG5X8XD50SPM1JJH0E5CTXGDV5NJT...</td>\n",
       "    </tr>\n",
       "    <tr>\n",
       "      <th>4</th>\n",
       "      <td>Create a Clarity smart contract for a bridged ...</td>\n",
       "      <td>First, the contract starts by implementing mul...</td>\n",
       "      <td>;; title: circle-usdce-token\\n;; version:\\n;; ...</td>\n",
       "    </tr>\n",
       "  </tbody>\n",
       "</table>\n",
       "</div>"
      ],
      "text/plain": [
       "                                            Question  \\\n",
       "0  Create a detailed Clarity smart contract for t...   \n",
       "1  Create a Clarity smart contract for the Stacks...   \n",
       "2  Create a Clarity smart contract for the Stacks...   \n",
       "3  Generate a Clarity smart contract for Stacks B...   \n",
       "4  Create a Clarity smart contract for a bridged ...   \n",
       "\n",
       "                                                 CoT  \\\n",
       "0  I'll generate a detailed Chain-of-Thought expl...   \n",
       "1  ## Chain-of-Thought Analysis: NFT Marketplace ...   \n",
       "2  First, I need to implement a Clarity smart con...   \n",
       "3  First, I notice there's a significant mismatch...   \n",
       "4  First, the contract starts by implementing mul...   \n",
       "\n",
       "                                            Response  \n",
       "0  ;; Define the contract's data variables\\n\\n;; ...  \n",
       "1  ;; A tiny NFT marketplace that allows users to...  \n",
       "2  ;; This contract implements the SIP-009 commun...  \n",
       "3  (impl-trait 'SPDBEG5X8XD50SPM1JJH0E5CTXGDV5NJT...  \n",
       "4  ;; title: circle-usdce-token\\n;; version:\\n;; ...  "
      ]
     },
     "execution_count": 4,
     "metadata": {},
     "output_type": "execute_result"
    }
   ],
   "source": [
    "dataset1.head()"
   ]
  },
  {
   "cell_type": "code",
   "execution_count": null,
   "metadata": {},
   "outputs": [],
   "source": []
  }
 ],
 "metadata": {
  "kernelspec": {
   "display_name": "venv",
   "language": "python",
   "name": "python3"
  },
  "language_info": {
   "codemirror_mode": {
    "name": "ipython",
    "version": 3
   },
   "file_extension": ".py",
   "mimetype": "text/x-python",
   "name": "python",
   "nbconvert_exporter": "python",
   "pygments_lexer": "ipython3",
   "version": "3.13.1"
  }
 },
 "nbformat": 4,
 "nbformat_minor": 2
}
