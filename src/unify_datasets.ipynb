{
 "cells": [
  {
   "cell_type": "code",
   "execution_count": 10,
   "metadata": {},
   "outputs": [],
   "source": [
    "import pandas as pd"
   ]
  },
  {
   "cell_type": "code",
   "execution_count": 17,
   "metadata": {},
   "outputs": [],
   "source": [
    "dataset1 = pd.read_csv('../data/DatasetJonathan.csv')\n",
    "dataset2 = pd.read_csv('../data/DatasetOriol.csv')"
   ]
  },
  {
   "cell_type": "code",
   "execution_count": 18,
   "metadata": {},
   "outputs": [
    {
     "data": {
      "text/html": [
       "<div>\n",
       "<style scoped>\n",
       "    .dataframe tbody tr th:only-of-type {\n",
       "        vertical-align: middle;\n",
       "    }\n",
       "\n",
       "    .dataframe tbody tr th {\n",
       "        vertical-align: top;\n",
       "    }\n",
       "\n",
       "    .dataframe thead th {\n",
       "        text-align: right;\n",
       "    }\n",
       "</style>\n",
       "<table border=\"1\" class=\"dataframe\">\n",
       "  <thead>\n",
       "    <tr style=\"text-align: right;\">\n",
       "      <th></th>\n",
       "      <th>Question</th>\n",
       "      <th>CoT</th>\n",
       "      <th>Response</th>\n",
       "    </tr>\n",
       "  </thead>\n",
       "  <tbody>\n",
       "    <tr>\n",
       "      <th>0</th>\n",
       "      <td>Create a detailed Clarity smart contract for t...</td>\n",
       "      <td>I'll generate a detailed Chain-of-Thought expl...</td>\n",
       "      <td>;; Define the contract's data variables\\n\\n;; ...</td>\n",
       "    </tr>\n",
       "    <tr>\n",
       "      <th>1</th>\n",
       "      <td>Create a Clarity smart contract for the Stacks...</td>\n",
       "      <td>## Chain-of-Thought Analysis: NFT Marketplace ...</td>\n",
       "      <td>;; A tiny NFT marketplace that allows users to...</td>\n",
       "    </tr>\n",
       "    <tr>\n",
       "      <th>2</th>\n",
       "      <td>Create a Clarity smart contract for the Stacks...</td>\n",
       "      <td>First, I need to implement a Clarity smart con...</td>\n",
       "      <td>;; This contract implements the SIP-009 commun...</td>\n",
       "    </tr>\n",
       "    <tr>\n",
       "      <th>3</th>\n",
       "      <td>Generate a Clarity smart contract for Stacks B...</td>\n",
       "      <td>First, I notice there's a significant mismatch...</td>\n",
       "      <td>(impl-trait 'SPDBEG5X8XD50SPM1JJH0E5CTXGDV5NJT...</td>\n",
       "    </tr>\n",
       "    <tr>\n",
       "      <th>4</th>\n",
       "      <td>Create a Clarity smart contract for a bridged ...</td>\n",
       "      <td>First, the contract starts by implementing mul...</td>\n",
       "      <td>;; title: circle-usdce-token\\n;; version:\\n;; ...</td>\n",
       "    </tr>\n",
       "  </tbody>\n",
       "</table>\n",
       "</div>"
      ],
      "text/plain": [
       "                                            Question  \\\n",
       "0  Create a detailed Clarity smart contract for t...   \n",
       "1  Create a Clarity smart contract for the Stacks...   \n",
       "2  Create a Clarity smart contract for the Stacks...   \n",
       "3  Generate a Clarity smart contract for Stacks B...   \n",
       "4  Create a Clarity smart contract for a bridged ...   \n",
       "\n",
       "                                                 CoT  \\\n",
       "0  I'll generate a detailed Chain-of-Thought expl...   \n",
       "1  ## Chain-of-Thought Analysis: NFT Marketplace ...   \n",
       "2  First, I need to implement a Clarity smart con...   \n",
       "3  First, I notice there's a significant mismatch...   \n",
       "4  First, the contract starts by implementing mul...   \n",
       "\n",
       "                                            Response  \n",
       "0  ;; Define the contract's data variables\\n\\n;; ...  \n",
       "1  ;; A tiny NFT marketplace that allows users to...  \n",
       "2  ;; This contract implements the SIP-009 commun...  \n",
       "3  (impl-trait 'SPDBEG5X8XD50SPM1JJH0E5CTXGDV5NJT...  \n",
       "4  ;; title: circle-usdce-token\\n;; version:\\n;; ...  "
      ]
     },
     "execution_count": 18,
     "metadata": {},
     "output_type": "execute_result"
    }
   ],
   "source": [
    "dataset1.head()"
   ]
  },
  {
   "cell_type": "code",
   "execution_count": 19,
   "metadata": {},
   "outputs": [
    {
     "data": {
      "text/html": [
       "<div>\n",
       "<style scoped>\n",
       "    .dataframe tbody tr th:only-of-type {\n",
       "        vertical-align: middle;\n",
       "    }\n",
       "\n",
       "    .dataframe tbody tr th {\n",
       "        vertical-align: top;\n",
       "    }\n",
       "\n",
       "    .dataframe thead th {\n",
       "        text-align: right;\n",
       "    }\n",
       "</style>\n",
       "<table border=\"1\" class=\"dataframe\">\n",
       "  <thead>\n",
       "    <tr style=\"text-align: right;\">\n",
       "      <th></th>\n",
       "      <th>Question</th>\n",
       "      <th>CoT</th>\n",
       "      <th>Response</th>\n",
       "    </tr>\n",
       "  </thead>\n",
       "  <tbody>\n",
       "    <tr>\n",
       "      <th>0</th>\n",
       "      <td>Create a Clarity smart contract on Stacks that...</td>\n",
       "      <td>Okay, the user wants me to create a Clarity sm...</td>\n",
       "      <td>;; Pyth Oracle integration for BTC/USD price f...</td>\n",
       "    </tr>\n",
       "    <tr>\n",
       "      <th>1</th>\n",
       "      <td>Create a simple Clarity smart contract for a t...</td>\n",
       "      <td>Okay, the user wants a Clarity contract for a ...</td>\n",
       "      <td>\\n(define-fungible-token fungible-token)\\n\\n;...</td>\n",
       "    </tr>\n",
       "    <tr>\n",
       "      <th>2</th>\n",
       "      <td>Create a Clarity smart contract for a Stacks b...</td>\n",
       "      <td>The code implements a multi-signature wallet (...</td>\n",
       "      <td>;;title: safe-clar\\n\\n(use-trait executor-trai...</td>\n",
       "    </tr>\n",
       "    <tr>\n",
       "      <th>3</th>\n",
       "      <td>Develop a Clarity smart contract for a Stacks ...</td>\n",
       "      <td>Okay, this contract is designed to retrieve an...</td>\n",
       "      <td>(define-constant ERR_UNEXPECTED (err u5000))\\n...</td>\n",
       "    </tr>\n",
       "    <tr>\n",
       "      <th>4</th>\n",
       "      <td>Write a Clarity smart contract that manages a ...</td>\n",
       "      <td>To begin addressing the requirements, the firs...</td>\n",
       "      <td>;;title: counter\\n(define-constant ERR_COUNT_M...</td>\n",
       "    </tr>\n",
       "  </tbody>\n",
       "</table>\n",
       "</div>"
      ],
      "text/plain": [
       "                                            Question  \\\n",
       "0  Create a Clarity smart contract on Stacks that...   \n",
       "1  Create a simple Clarity smart contract for a t...   \n",
       "2  Create a Clarity smart contract for a Stacks b...   \n",
       "3  Develop a Clarity smart contract for a Stacks ...   \n",
       "4  Write a Clarity smart contract that manages a ...   \n",
       "\n",
       "                                                 CoT  \\\n",
       "0  Okay, the user wants me to create a Clarity sm...   \n",
       "1  Okay, the user wants a Clarity contract for a ...   \n",
       "2  The code implements a multi-signature wallet (...   \n",
       "3  Okay, this contract is designed to retrieve an...   \n",
       "4  To begin addressing the requirements, the firs...   \n",
       "\n",
       "                                            Response  \n",
       "0  ;; Pyth Oracle integration for BTC/USD price f...  \n",
       "1   \\n(define-fungible-token fungible-token)\\n\\n;...  \n",
       "2  ;;title: safe-clar\\n\\n(use-trait executor-trai...  \n",
       "3  (define-constant ERR_UNEXPECTED (err u5000))\\n...  \n",
       "4  ;;title: counter\\n(define-constant ERR_COUNT_M...  "
      ]
     },
     "execution_count": 19,
     "metadata": {},
     "output_type": "execute_result"
    }
   ],
   "source": [
    "dataset2.head()"
   ]
  },
  {
   "cell_type": "code",
   "execution_count": 20,
   "metadata": {},
   "outputs": [],
   "source": [
    "combined_df = pd.concat([dataset1, dataset2], axis=0, ignore_index=True)"
   ]
  },
  {
   "cell_type": "code",
   "execution_count": 21,
   "metadata": {},
   "outputs": [
    {
     "data": {
      "text/plain": [
       "(24, 3)"
      ]
     },
     "execution_count": 21,
     "metadata": {},
     "output_type": "execute_result"
    }
   ],
   "source": [
    "combined_df.shape"
   ]
  },
  {
   "cell_type": "code",
   "execution_count": 15,
   "metadata": {},
   "outputs": [],
   "source": [
    "#export combined dataset\n",
    "combined_df.to_csv('../data/Dataset-v1.csv', index=False)"
   ]
  }
 ],
 "metadata": {
  "kernelspec": {
   "display_name": "venv",
   "language": "python",
   "name": "python3"
  },
  "language_info": {
   "codemirror_mode": {
    "name": "ipython",
    "version": 3
   },
   "file_extension": ".py",
   "mimetype": "text/x-python",
   "name": "python",
   "nbconvert_exporter": "python",
   "pygments_lexer": "ipython3",
   "version": "3.13.1"
  }
 },
 "nbformat": 4,
 "nbformat_minor": 2
}
